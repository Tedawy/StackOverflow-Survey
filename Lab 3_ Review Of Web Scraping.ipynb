{
 "cells": [
  {
   "cell_type": "markdown",
   "metadata": {},
   "source": [
    "<center>\n",
    "    <img src=\"https://gitlab.com/ibm/skills-network/courses/placeholder101/-/raw/master/labs/module%201/images/IDSNlogo.png\" width=\"300\" alt=\"cognitiveclass.ai logo\"  />\n",
    "</center>\n"
   ]
  },
  {
   "cell_type": "markdown",
   "metadata": {},
   "source": [
    "# **Web Scraping Lab**\n"
   ]
  },
  {
   "cell_type": "markdown",
   "metadata": {},
   "source": [
    "Estimated time needed: **30** minutes\n"
   ]
  },
  {
   "cell_type": "markdown",
   "metadata": {},
   "source": [
    "## Objectives\n"
   ]
  },
  {
   "cell_type": "markdown",
   "metadata": {},
   "source": [
    "After completing this lab you will be able to:\n"
   ]
  },
  {
   "cell_type": "markdown",
   "metadata": {},
   "source": [
    "*   Download a webpage using requests module\n",
    "*   Scrape all links from a web page\n",
    "*   Scrape all image urls from a web page\n",
    "*   Scrape data from html tables\n"
   ]
  },
  {
   "cell_type": "markdown",
   "metadata": {},
   "source": [
    "## Scrape www.ibm.com\n"
   ]
  },
  {
   "cell_type": "markdown",
   "metadata": {},
   "source": [
    "Import the required modules and functions\n"
   ]
  },
  {
   "cell_type": "code",
   "execution_count": 1,
   "metadata": {},
   "outputs": [],
   "source": [
    "from bs4 import BeautifulSoup # this module helps in web scrapping.\n",
    "import requests  # this module helps us to download a web page\n",
    "import json"
   ]
  },
  {
   "cell_type": "markdown",
   "metadata": {},
   "source": [
    "Download the contents of the web page\n"
   ]
  },
  {
   "cell_type": "code",
   "execution_count": 2,
   "metadata": {},
   "outputs": [],
   "source": [
    "url = \"http://www.ibm.com\""
   ]
  },
  {
   "cell_type": "code",
   "execution_count": 3,
   "metadata": {},
   "outputs": [],
   "source": [
    "# get the contents of the webpage in text format and store in a variable called data\n",
    "data  = requests.get(url).text"
   ]
  },
  {
   "cell_type": "markdown",
   "metadata": {},
   "source": [
    "Create a soup object using the class BeautifulSoup\n"
   ]
  },
  {
   "cell_type": "code",
   "execution_count": 4,
   "metadata": {},
   "outputs": [],
   "source": [
    "soup = BeautifulSoup(data,\"html5lib\")  # create a soup object using the variable 'data'"
   ]
  },
  {
   "cell_type": "markdown",
   "metadata": {},
   "source": [
    "Scrape all links\n"
   ]
  },
  {
   "cell_type": "code",
   "execution_count": 22,
   "metadata": {},
   "outputs": [
    {
     "name": "stdout",
     "output_type": "stream",
     "text": [
      "https://www.ibm.com/uk/en\n",
      "\n",
      "https://www.ibm.com/uk-en/products?lnk=hpmps_bupr_uken&lnk2=link\n",
      "https://www.ibm.com/uk-en/industries?lnk=hpmps_buin_uken&lnk2=link\n",
      "https://www.ibm.com/uk-en/artificial-intelligence?lnk=hpmps_buai_uken&lnk2=link\n",
      "https://www.ibm.com/uk-en/automation?lnk=hpmps_buau_uken&lnk2=link\n",
      "https://www.ibm.com/uk-en/blockchain?lnk=hpmps_bubc_uken&lnk2=link\n",
      "https://www.ibm.com/uk-en/business-operations?lnk=hpmps_buop_uken&lnk2=link\n",
      "https://www.ibm.com/uk-en/cloud?lnk=hpmps_bucl_uken&lnk2=link\n",
      "https://www.ibm.com/uk-en/analytics?lnk=hpmps_buda_uken&lnk2=link\n",
      "https://www.ibm.com/uk-en/it-infrastructure?lnk=hpmps_buit_uken&lnk2=link\n",
      "https://www.ibm.com/uk-en/security?lnk=hpmps_buse_uken&lnk2=link\n",
      "https://www.ibm.com/uk-en/supply-chain?lnk=hpmps_busc_uken&lnk2=link\n",
      "https://www.ibm.com/uk-en/financing?lnk=hpmps_bufi_uken&lnk2=link\n",
      "https://www.ibm.com/uk-en/products?lnk=hpmps_buall_uken&lnk2=link\n",
      "\n",
      "https://www.ibm.com/uk-en/services/process?lnk=hpmsc_bups_uken&lnk2=link\n",
      "https://www.ibm.com/services/ibmix/?lnk=hpmsc_budbs_uken&lnk2=link\n",
      "https://www.ibm.com/uk-en/services/cloud?lnk=hpmsc_buhs?lnk=hpmsc_buhs_uken\n",
      "https://www.ibm.com/uk-en/talent-management?lnk=hpmsc_buta_uken&lnk2=link\n",
      "https://www.ibm.com/uk-en/services/applications?lnk=hpmsc_buas_uken&lnk2=link\n",
      "https://www.ibm.com/uk-en/garage?lnk=hpmsc_buas_uken&lnk2=link\n",
      "https://www.ibm.com/uk-en/security/services?lnk=hpmsc_buse_uken&lnk2=link\n",
      "https://www.ibm.com/uk-en/services/technology-support?lnk=hpmsc_busv_uken&lnk2=link\n",
      "https://www.ibm.com/uk-en/financing/solutions/it-services-financing?lnk=hpmsc_bufi_uken&lnk2=link\n",
      "https://www.ibm.com/uk-en/services?lnk=hpmsc_buall_uken&lnk2=link\n",
      "\n",
      "https://www.ibm.com/support/uk/en/?lnk=hpmls_busu_uken&lnk2=link\n",
      "https://www.ibm.com/support/knowledgecenter/?lnk=hpmls_budc_uken&lnk2=link\n",
      "https://developer.ibm.com/?lnk=hpmls_bude_uken&lnk2=link\n",
      "https://www.ibm.com/training/?lnk=hpmls_butr_uken&lnk2=link\n",
      "https://www.ibm.com/blogs/?lnk=hpmls_bure_uken&lnk2=link\n",
      "https://www.ibm.com/cloud/learn?lnk=hpmls_buwi_uken&lnk2=link\n",
      "\n",
      "https://www.ibm.com/partnerworld/public?lnk=hpmex_bupa_uken&lnk2=link\n",
      "https://www.research.ibm.com/?lnk=hpmex_bure_uken&lnk2=link\n",
      "https://www.ibm.com/uk-en/about?lnk=hpmex_buab_uken&lnk2=link\n",
      "https://www.ibm.com/uk-en/impact/covid-19?lnk=hpmex_buco_uken&lnk2=link\n",
      "https://www.ibm.com/sitemap/uk/en\n",
      "https://www.ibm.com/cloud/automation/mayflower-autonomous-ship\n",
      "https://www.ibm.com/resources/cloud/mayflower-ship-experience\n",
      "https://newsroom.ibm.com/2021-02-16-IBM-Commits-To-Net-Zero-Greenhouse-Gas-Emissions-By-2030?lnk=hpv18nf1\n",
      "https://uk.newsroom.ibm.com/\n",
      "https://www.ibm.com/downloads/cas/RVXZZX3L\n",
      "https://www.ibm.com/uk-en/marketing/events/\n",
      "https://www.ibm.com/marketing/uk-en/this-is-ibm/t-rex\n",
      "https://www.ibm.com/events/think\n",
      "https://callforcode.org\n",
      "/uk-en/products/offers-and-discounts\n",
      "/uk-en/products/cloud-pak-for-security\n",
      "/uk-en/products/spss-statistics\n",
      "/uk-en/products/hosted-security-intelligence\n",
      "/uk-en/cloud/aspera\n",
      "https://developer.ibm.com/depmodels/cloud/?lnk=hpv18ct16\n",
      "https://developer.ibm.com/technologies/artificial-intelligence?lnk=hpv18ct19\n",
      "https://www.ibm.com/demos/?lnk=hpv18ct12\n",
      "https://developer.ibm.com/?lnk=hpv18ct9\n",
      "https://www.ibm.com/docs/en?lnk=hpv18ct14\n",
      "https://www.redbooks.ibm.com/?lnk=ushpv18ct10\n",
      "https://www.ibm.com/support/home/?lnk=hpv18ct11\n",
      "https://www.ibm.com/training/?lnk=hpv18ct15\n",
      "/cloud/hybrid?lnk=hpv18pt14\n",
      "/cloud/learn/public-cloud?lnk=hpv18ct1\n",
      "/watson?lnk=ushpv18pt17\n",
      "/garage?lnk=hpv18pt13\n",
      "/blockchain?lnk=hpv18pt4\n",
      "https://www.ibm.com/thought-leadership/institute-business-value/?lnk=hpv18pt12\n",
      "/analytics?lnk=hpv18pt1\n",
      "/security?lnk=hpv18pt9\n",
      "/financing?lnk=hpv18pt3\n",
      "https://www.ibm.com/quantum-computing?lnk=hpv18pt16\n",
      "/cloud/hybrid?lnk=hpv18ct20\n",
      "/cloud/learn/public-cloud?lnk=hpv18ct1\n",
      "/cloud/redhat?lnk=hpv18ct13\n",
      "/watson?lnk=hpv18ct3\n",
      "https://www.ibm.com/quantum-computing?lnk=hpv18ct18\n",
      "/cloud/learn/kubernetes?lnk=hpv18ct8\n",
      "/products/spss-statistics?lnk=ushpv18ct7\n",
      "/blockchain?lnk=hpv18ct1\n",
      "https://www.ibm.com/employment?lnk=hpv18ct2\n",
      "https://www.ibm.com/case-studies/coca-cola-european-partners/?lnk=hpv18cs1\n",
      "/case-studies/search?lnk=hpv18cs2\n",
      "https://www.ibm.com/uk-en/products/?lnk=pr_uken\n",
      "https://www.ibm.com/software/uk/info/trials/?lnk=STW_UK_HPF_THP_FT_TL&lnk2=goto_THP\n",
      "https://www.ibm.com/uk-en/marketplace/collections/offers-and-discounts/?lnk=STW_UK_HPF_DISC_FT_TL&lnk2=goto_MPDISC\n",
      "https://www.ibm.com/technologyservices/uk/en/?lnk=se_uken\n",
      "https://www.ibm.com/uk-en/industries\n",
      "https://www.ibm.com/ibm/clientcenter/london/index.shtml?lnk=cc_uken\n",
      "https://www.ibm.com/case-studies\n",
      "https://www.ibm.com/uk-en/financing\n",
      "https://www.ibm.com/developerworks/?lnk=fif_uken\n",
      "https://www.ibm.com/partnerworld/wps/servlet/ContentHandler/partnerworld-home?lnk=fif_uken\n",
      "https://www.ibm.com/industries/uk/en/CSI/?lnk=fif-uken\n",
      "https://www.ibm.com/easytools/runtime/hspx/prod/public/X0027/PortalX/page/pageTemplate?s=35c0b8da43bc4974b262b8f96d53fbf4&c=35c0b8da43bc4974b262b8f96d53fbf4?lnk=fif-uken\n",
      "https://support.ibm.com?lnk=fwc_uken\n",
      "https://www.ibm.com/partnerworld/wps/bplocator/search.jsp?lnk=fcw-uken\n",
      "https://www.ibm.com/employment/uk-en/?lnk=mca_uken\n",
      "https://www.ibm.com/press/uk/en/index.wss?lnk=fab_uken\n",
      "https://www.ibm.com/investor/?lnk=fab_uken\n",
      "https://www.ibm.org/?lnk=fab\n",
      "https://www.ibm.com/ibm/uk/en/?lnk=fab_uken\n",
      "https://www.ibm.com/data-responsibility/uk-en/brexit\n",
      "https://www.ibm.com/uk-en/marketing/documents/\n",
      "https://www.ibm.com/uk-en/marketing/pdf/IBM_Modern_Slavery_Act_Transparency_Statement_2020.pdf\n",
      "https://www.ibm.com/contact/uk/en/?lnk=flg-cont-uken\n",
      "https://www.ibm.com/uk-en/privacy?lnk=flg-priv-uken\n",
      "https://www.ibm.com/uk-en/legal?lnk=flg-tous-uken\n",
      "https://www.ibm.com/able?lnk=flg-able-uken\n",
      "#\n"
     ]
    }
   ],
   "source": [
    "for link in soup.find_all('a'):  # in html anchor/link is represented by the tag <a>\n",
    "    print(link.get('href'))"
   ]
  },
  {
   "cell_type": "markdown",
   "metadata": {},
   "source": [
    "Scrape  all images\n"
   ]
  },
  {
   "cell_type": "code",
   "execution_count": 5,
   "metadata": {},
   "outputs": [
    {
     "name": "stdout",
     "output_type": "stream",
     "text": [
      "//1.cms.s81c.com/sites/default/files/2021-06-07/Sustainability%20Bump.jpg\n",
      "//1.cms.s81c.com/sites/default/files/2021-03-29/Events%20Hub%20Homepage_.jpg\n",
      "//1.cms.s81c.com/sites/default/files/2021-06-07/thisistrex.jpg\n",
      "//1.cms.s81c.com/sites/default/files/2021-04-06/Think%20inside%20IBM.png\n",
      "//1.cms.s81c.com/sites/default/files/2021-04-15/call%20for%20code.png\n",
      "//1.cms.s81c.com/sites/default/files/2021-04-06/cloud-pak-for-security-trial.png\n",
      "//1.cms.s81c.com/sites/default/files/2021-04-06/SPSS-Statistics-23108-700x420.png\n",
      "//1.cms.s81c.com/sites/default/files/2021-04-06/QRadar-on-Cloud-21400-700x420.png\n",
      "//1.cms.s81c.com/sites/default/files/2021-04-06/Aspera-on-Cloud-19783-700x420.png\n"
     ]
    }
   ],
   "source": [
    "for link in soup.find_all('img'):# in html image is represented by the tag <img>\n",
    "    print(link.get('src'))"
   ]
  },
  {
   "cell_type": "markdown",
   "metadata": {},
   "source": [
    "## Scrape data from html tables\n"
   ]
  },
  {
   "cell_type": "code",
   "execution_count": 6,
   "metadata": {},
   "outputs": [],
   "source": [
    "#The below url contains a html table with data about colors and color codes."
   ]
  },
  {
   "cell_type": "code",
   "execution_count": 7,
   "metadata": {},
   "outputs": [],
   "source": [
    "url = \"https://cf-courses-data.s3.us.cloud-object-storage.appdomain.cloud/IBM-DA0321EN-SkillsNetwork/labs/datasets/HTMLColorCodes.html\""
   ]
  },
  {
   "cell_type": "markdown",
   "metadata": {},
   "source": [
    "Before proceeding to scrape a web site, you need to examine the contents, and the way data is organized on the website. Open the above url in your browser and check how many rows and columns are there in the color table.\n"
   ]
  },
  {
   "cell_type": "code",
   "execution_count": 8,
   "metadata": {},
   "outputs": [],
   "source": [
    "# get the contents of the webpage in text format and store in a variable called data\n",
    "data  = requests.get(url).text"
   ]
  },
  {
   "cell_type": "code",
   "execution_count": 9,
   "metadata": {},
   "outputs": [],
   "source": [
    "soup = BeautifulSoup(data,\"html5lib\")"
   ]
  },
  {
   "cell_type": "code",
   "execution_count": 10,
   "metadata": {},
   "outputs": [],
   "source": [
    "#find a html table in the web page\n",
    "table = soup.find('table') # in html table is represented by the tag <table>"
   ]
  },
  {
   "cell_type": "code",
   "execution_count": 11,
   "metadata": {},
   "outputs": [
    {
     "name": "stdout",
     "output_type": "stream",
     "text": [
      "Color Name--->Hex Code#RRGGBB\n",
      "lightsalmon--->#FFA07A\n",
      "salmon--->#FA8072\n",
      "darksalmon--->#E9967A\n",
      "lightcoral--->#F08080\n",
      "coral--->#FF7F50\n",
      "tomato--->#FF6347\n",
      "orangered--->#FF4500\n",
      "gold--->#FFD700\n",
      "orange--->#FFA500\n",
      "darkorange--->#FF8C00\n",
      "lightyellow--->#FFFFE0\n",
      "lemonchiffon--->#FFFACD\n",
      "papayawhip--->#FFEFD5\n",
      "moccasin--->#FFE4B5\n",
      "peachpuff--->#FFDAB9\n",
      "palegoldenrod--->#EEE8AA\n",
      "khaki--->#F0E68C\n",
      "darkkhaki--->#BDB76B\n",
      "yellow--->#FFFF00\n",
      "lawngreen--->#7CFC00\n",
      "chartreuse--->#7FFF00\n",
      "limegreen--->#32CD32\n",
      "lime--->#00FF00\n",
      "forestgreen--->#228B22\n",
      "green--->#008000\n",
      "powderblue--->#B0E0E6\n",
      "lightblue--->#ADD8E6\n",
      "lightskyblue--->#87CEFA\n",
      "skyblue--->#87CEEB\n",
      "deepskyblue--->#00BFFF\n",
      "lightsteelblue--->#B0C4DE\n",
      "dodgerblue--->#1E90FF\n"
     ]
    }
   ],
   "source": [
    "#Get all rows from the table\n",
    "for row in table.find_all('tr'): # in html table row is represented by the tag <tr>\n",
    "    # Get all columns in each row.\n",
    "    cols = row.find_all('td') # in html a column is represented by the tag <td>\n",
    "    color_name = cols[2].getText() # store the value in column 3 as color_name\n",
    "    color_code = cols[3].getText() # store the value in column 4 as color_code\n",
    "    print(\"{}--->{}\".format(color_name,color_code))"
   ]
  },
  {
   "cell_type": "markdown",
   "metadata": {},
   "source": [
    "## Authors\n"
   ]
  },
  {
   "cell_type": "markdown",
   "metadata": {},
   "source": [
    "Ramesh Sannareddy\n"
   ]
  },
  {
   "cell_type": "markdown",
   "metadata": {},
   "source": [
    "### Other Contributors\n"
   ]
  },
  {
   "cell_type": "markdown",
   "metadata": {},
   "source": [
    "Rav Ahuja\n"
   ]
  },
  {
   "cell_type": "markdown",
   "metadata": {},
   "source": [
    "## Change Log\n"
   ]
  },
  {
   "cell_type": "markdown",
   "metadata": {},
   "source": [
    "|  Date (YYYY-MM-DD) |  Version | Changed By  |  Change Description |\n",
    "|---|---|---|---|\n",
    "| 2020-10-17  | 0.1  | Ramesh Sannareddy  |  Created initial version of the lab |\n"
   ]
  },
  {
   "cell_type": "markdown",
   "metadata": {},
   "source": [
    "Copyright © 2020 IBM Corporation. This notebook and its source code are released under the terms of the [MIT License](https://cognitiveclass.ai/mit-license/?utm_medium=Exinfluencer\\&utm_source=Exinfluencer\\&utm_content=000026UJ\\&utm_term=10006555\\&utm_id=NA-SkillsNetwork-Channel-SkillsNetworkCoursesIBMDA0321ENSkillsNetwork21426264-2021-01-01).\n"
   ]
  }
 ],
 "metadata": {
  "kernelspec": {
   "display_name": "Python 3.7",
   "language": "python",
   "name": "python3"
  },
  "language_info": {
   "codemirror_mode": {
    "name": "ipython",
    "version": 3
   },
   "file_extension": ".py",
   "mimetype": "text/x-python",
   "name": "python",
   "nbconvert_exporter": "python",
   "pygments_lexer": "ipython3",
   "version": "3.7.10"
  }
 },
 "nbformat": 4,
 "nbformat_minor": 4
}
